{
 "cells": [
  {
   "cell_type": "markdown",
   "id": "751de539",
   "metadata": {},
   "source": [
    "# Connection Parameters"
   ]
  },
  {
   "cell_type": "markdown",
   "id": "b750414f",
   "metadata": {},
   "source": [
    "The first step in using any of CIMantic Graphs functionalities is to define the connection parameters, which specify the CIM Profile, serialization format, and database to be used. The `ConnectionParameters` class is used to specify these inputs with the following required and optional arguments:"
   ]
  },
  {
   "cell_type": "code",
   "execution_count": 2,
   "id": "eb9f8334",
   "metadata": {},
   "outputs": [],
   "source": [
    "from cimgraph import ConnectionParameters"
   ]
  },
  {
   "cell_type": "markdown",
   "id": "356957e6",
   "metadata": {},
   "source": [
    "Required arguments:\n",
    "* `cim_profile`: This specifies the specific version of CIM to be used, based on the available python data profiles loaded into the library\n",
    "\n",
    "Optional arguments:\n",
    "* `url`: URL at which the database can be reached via TCP/IP or other connection\n",
    "* `host`: Database host address\n",
    "* `port`: Database host port\n",
    "* `\n",
    "* `filename`: Filename for importing CIM models from an XML file\n"
   ]
  },
  {
   "cell_type": "code",
   "execution_count": null,
   "id": "4172b815",
   "metadata": {},
   "outputs": [],
   "source": []
  },
  {
   "cell_type": "markdown",
   "id": "4afd0cec",
   "metadata": {},
   "source": [
    "## Local Connection (No Database)"
   ]
  },
  {
   "cell_type": "code",
   "execution_count": null,
   "id": "9c0cda73",
   "metadata": {},
   "outputs": [],
   "source": []
  },
  {
   "cell_type": "markdown",
   "id": "65993a9e",
   "metadata": {},
   "source": [
    "## RDFLib File Parser Connection (No Database)"
   ]
  },
  {
   "cell_type": "code",
   "execution_count": null,
   "id": "020483aa",
   "metadata": {},
   "outputs": [],
   "source": [
    "# RDFLib File Reader Connection\n",
    "params = ConnectionParameters(filename=\"./maple10bus.xml\", cim_profile='rc4_2021', iec61970_301=7)\n",
    "rdf = RDFlibConnection(params)"
   ]
  },
  {
   "cell_type": "markdown",
   "id": "cce50e7c",
   "metadata": {},
   "source": [
    "## Blazegraph Database"
   ]
  },
  {
   "cell_type": "code",
   "execution_count": null,
   "id": "e8daffb1",
   "metadata": {},
   "outputs": [],
   "source": [
    "from cimgraph.databases.blazegraph.blazegraph import BlazegraphConnection\n",
    "\n",
    "# Blazegraph connection for running outside the container\n",
    "params = ConnectionParameters(url = \"http://localhost:8889/bigdata/namespace/kb/sparql\", cim_profile='rc4_2021', iec61970_301=7)\n",
    "bg = BlazegraphConnection(params)\n"
   ]
  },
  {
   "cell_type": "markdown",
   "id": "f9cb13a8",
   "metadata": {},
   "source": [
    "## Graph DB Database Connection"
   ]
  },
  {
   "cell_type": "code",
   "execution_count": null,
   "id": "89ce9c5b",
   "metadata": {},
   "outputs": [],
   "source": [
    "# GraphDB Connection\n",
    "params = ConnectionParameters(url = \"http://localhost:7200/repositories/cim_test\", cim_profile='rc4_2021')\n",
    "gdb = GraphDBConnection(params)\n"
   ]
  },
  {
   "cell_type": "markdown",
   "id": "0091895a",
   "metadata": {},
   "source": [
    "## Neo4j Database Connection"
   ]
  },
  {
   "cell_type": "code",
   "execution_count": null,
   "id": "f815f80e",
   "metadata": {},
   "outputs": [],
   "source": [
    "# Neo4J Connection\n",
    "params = ConnectionParameters(url = \"neo4j://localhost:7687/neo4j\", database=\"neo4j\", cim_profile='rc4_2021')\n",
    "neo4j = Neo4jConnection(params)"
   ]
  },
  {
   "cell_type": "markdown",
   "id": "f5e306f5",
   "metadata": {},
   "source": [
    "## MySQL Database Connection"
   ]
  },
  {
   "cell_type": "code",
   "execution_count": null,
   "id": "82e091e6",
   "metadata": {},
   "outputs": [],
   "source": []
  },
  {
   "cell_type": "markdown",
   "id": "bdf41f56",
   "metadata": {},
   "source": [
    "## GridAPPS-D Platform Connection"
   ]
  },
  {
   "cell_type": "code",
   "execution_count": null,
   "id": "6c82b35d",
   "metadata": {},
   "outputs": [],
   "source": []
  },
  {
   "cell_type": "markdown",
   "id": "d8d0ae28",
   "metadata": {},
   "source": [
    "## AVEVA PI Asset Framework (PI-Web-API) Connection"
   ]
  },
  {
   "cell_type": "code",
   "execution_count": null,
   "id": "21627df6",
   "metadata": {},
   "outputs": [],
   "source": [
    "#TODO"
   ]
  },
  {
   "cell_type": "code",
   "execution_count": null,
   "id": "314dc368",
   "metadata": {},
   "outputs": [],
   "source": []
  },
  {
   "cell_type": "code",
   "execution_count": null,
   "id": "77ce4a0a",
   "metadata": {},
   "outputs": [],
   "source": []
  }
 ],
 "metadata": {
  "kernelspec": {
   "display_name": "Python 3 (ipykernel)",
   "language": "python",
   "name": "python3"
  },
  "language_info": {
   "codemirror_mode": {
    "name": "ipython",
    "version": 3
   },
   "file_extension": ".py",
   "mimetype": "text/x-python",
   "name": "python",
   "nbconvert_exporter": "python",
   "pygments_lexer": "ipython3",
   "version": "3.10.12"
  }
 },
 "nbformat": 4,
 "nbformat_minor": 5
}
