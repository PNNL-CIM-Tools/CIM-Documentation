{
 "cells": [
  {
   "cell_type": "markdown",
   "id": "751de539",
   "metadata": {},
   "source": [
    "# Connection Parameters"
   ]
  },
  {
   "cell_type": "markdown",
   "id": "b750414f",
   "metadata": {},
   "source": [
    "The first step in using any of CIMantic Graphs functionalities is to define the connection parameters, which specify the CIM Profile, serialization format, and database to be used. The `ConnectionParameters` class is used to specify these inputs with the following required and optional arguments:"
   ]
  },
  {
   "cell_type": "code",
   "execution_count": null,
   "id": "eb9f8334",
   "metadata": {},
   "outputs": [],
   "source": [
    "from cimgraph import ConnectionParameters"
   ]
  },
  {
   "cell_type": "markdown",
   "id": "53a2bc67",
   "metadata": {},
   "source": [
    "## 1. Connection Arguments"
   ]
  },
  {
   "cell_type": "markdown",
   "id": "356957e6",
   "metadata": {},
   "source": [
    "__Required arguments:__\n",
    "\n",
    "* `cim_profile`: This specifies the specific version of CIM to be used, based on the available python data profiles loaded into the library\n"
   ]
  },
  {
   "cell_type": "markdown",
   "id": "057b7fc1",
   "metadata": {},
   "source": [
    "__Optional arguments:__\n",
    "\n",
    "* `namespace`: CIM namespace, default is `\"http://iec.ch/TC57/CIM100#\"`\n",
    "\n",
    "* `iec61970-301`: Serialization version, default is 7\n",
    "\n",
    "* `url`: URL at which the database can be reached via TCP/IP or other connection\n",
    "\n",
    "* `host`: Database host address\n",
    "\n",
    "* `port`: Database host port\n",
    "\n",
    "* `database`: Database name\n",
    "\n",
    "* `username`: Database username\n",
    "\n",
    "* `password`: Database password\n",
    "\n",
    "* `filename`: Filename for importing CIM models from an XML file\n",
    "\n",
    "Note that not all parameters are required. Each database connection uses a subset of these arguments depending on the requirements of the database connection driver."
   ]
  },
  {
   "cell_type": "markdown",
   "id": "1619b105",
   "metadata": {},
   "source": [
    "### 1.1. CIM Namespaces\n",
    "Each version of the CIM uses a specific namespace, which can typically be found in the first line of the XML file, such as\n",
    "\n",
    "`xmlns:cim=\"http://iec.ch/TC57/2011/CIM-schema-cim15#\"`\n",
    "\n",
    "The default used by CIMantic Graphs is the CIM100 namespace ` \"http://iec.ch/TC57/CIM100#\"`\n",
    "\n",
    "To change the namespace used, pass the namespace as a string into the connection parameters. This will then be used in all automated query builders:"
   ]
  },
  {
   "cell_type": "code",
   "execution_count": null,
   "id": "8966e62c",
   "metadata": {},
   "outputs": [],
   "source": [
    "params = ConnectionParameters(namespace = \"http://iec.ch/TC57/2011/CIM-schema-cim15#\")"
   ]
  },
  {
   "cell_type": "markdown",
   "id": "6855c722",
   "metadata": {},
   "source": [
    "### 1.2. IEC 61970-301 Serialization Version\n",
    "\n",
    "Versions 7.0 and older of the IEC 61970-301 standard used the serialization format:\n",
    "\n",
    "```\n",
    "<cim:ClsName rdf:ID=\"_ABEB635F-729D-24BF-B8A4-E2EF268D8B9E\">\n",
    "  <cim:ClsName.Assoc rdf:resource=\"#_73C512BD-7249-4F50-50DA-D93849B89C43\"/>\n",
    "</cim:ClsName>\n",
    "```\n",
    "\n",
    "Version 8.0 of the standard has changed the serialization format to specify that the serialization identifier must be a UUID:\n",
    "\n",
    "```\n",
    "<cim:ClsName rdf:about=\"urn:uuid:abeb635f-729d-24bf-b8a4-e2ef268d8b9e\">\n",
    "  <cim:ClsName.Assoc rdf:resource=\"urn:uuid:73c512bd-7249-4f50-50da-d93849b89c43\"/>\n",
    "</cim:ClsName>\n",
    "```"
   ]
  },
  {
   "cell_type": "markdown",
   "id": "eaafccaa",
   "metadata": {},
   "source": [
    "To enable CIMantic Graphs to handle different serializations dynamically, the serialization version can be passed as an integer argument:"
   ]
  },
  {
   "cell_type": "code",
   "execution_count": null,
   "id": "70b06ed1",
   "metadata": {},
   "outputs": [],
   "source": [
    "params = ConnectionParameters(iec61970_301 = 7) # Use with rdf:ID"
   ]
  },
  {
   "cell_type": "code",
   "execution_count": null,
   "id": "668d9c51",
   "metadata": {},
   "outputs": [],
   "source": [
    "params = ConnectionParameters(iec61970_301 = 8) # Use with rdf:about:urn:uuid"
   ]
  },
  {
   "cell_type": "markdown",
   "id": "cab67d3c",
   "metadata": {},
   "source": [
    "----"
   ]
  },
  {
   "cell_type": "markdown",
   "id": "d6344f61",
   "metadata": {},
   "source": [
    "## 2. Creating a Connection\n",
    "\n",
    "CIMantic Graphs currently supports the following data sources:\n",
    "\n",
    "* Blazegraph Database\n",
    "* GraphDB Database\n",
    "* Neo4J Database\n",
    "* MySQL Database (in progress)\n",
    "* GridAPPS-D Platform\n",
    "* AVEVA PI Asset Framework (in progress)\n",
    "* RDFLib File Parser\n",
    "\n",
    "To create the database connection, specify the url / host+port and username/password based on the specific requirements of each database connection driver. Examples of connection parameters for the supported databases are listed below."
   ]
  },
  {
   "cell_type": "markdown",
   "id": "8e8f6084",
   "metadata": {},
   "source": [
    "----"
   ]
  },
  {
   "cell_type": "markdown",
   "id": "cce50e7c",
   "metadata": {},
   "source": [
    "## 3. Blazegraph Database\n",
    "\n",
    "Blazegraph DB is a ultra high-performance open-source database supporting Blueprints and RDF/SPARQL APIs. It supports up to 50 Billion edges on a single machine. \n",
    "\n",
    "Docker images preloaded with IEEE test feeders are available from https://hub.docker.com/r/gridappsd/blazegraph/tags.\n",
    "\n",
    "To connect to Blazegraph, import the `BlazegraphConnection` class:"
   ]
  },
  {
   "cell_type": "code",
   "execution_count": null,
   "id": "e8daffb1",
   "metadata": {},
   "outputs": [],
   "source": [
    "# Import class from cimgraph databases module\n",
    "from cimgraph.databases.blazegraph import BlazegraphConnection\n",
    "# Create connection parameters\n",
    "params = ConnectionParameters(url = \"http://localhost:8889/bigdata/namespace/kb/sparql\",\n",
    "                              cim_profile='rc4_2021', iec61970_301=8)\n",
    "# Create database connection object\n",
    "blazegraph = BlazegraphConnection(params)\n"
   ]
  },
  {
   "cell_type": "markdown",
   "id": "1f5ebd23",
   "metadata": {},
   "source": [
    "----"
   ]
  },
  {
   "cell_type": "markdown",
   "id": "f9cb13a8",
   "metadata": {},
   "source": [
    "## 4. Graph DB Database Connection\n",
    "\n",
    "GraphDB is a full-featured commercial RDF graph database developed by Ontotext"
   ]
  },
  {
   "cell_type": "code",
   "execution_count": null,
   "id": "89ce9c5b",
   "metadata": {},
   "outputs": [],
   "source": [
    "# Import class from cimgraph databases module\n",
    "from cimgraph.databases.graphdb import GraphDBConnection\n",
    "# Create connection parameters\n",
    "params = ConnectionParameters(url = \"http://localhost:7200/repositories/cim_test\", \n",
    "                              cim_profile='rc4_2021', iec61970_301=8)\n",
    "# Create database connection object\n",
    "graphdb = GraphDBConnection(params)\n"
   ]
  },
  {
   "cell_type": "markdown",
   "id": "0091895a",
   "metadata": {},
   "source": [
    "## 5. Neo4j Database Connection"
   ]
  },
  {
   "cell_type": "code",
   "execution_count": null,
   "id": "f815f80e",
   "metadata": {},
   "outputs": [],
   "source": [
    "# Import class from cimgraph databases module\n",
    "from cimgraph.databases.neo4j import Neo4jConnection\n",
    "# Create connection parameters\n",
    "\n",
    "params = ConnectionParameters(url = \"neo4j://localhost:7687/neo4j\", database=\"neo4j\",\n",
    "                               cim_profile='rc4_2021', iec61970_301=8)\n",
    "# Create database connection object\n",
    "neo4j = Neo4jConnection(params)"
   ]
  },
  {
   "cell_type": "markdown",
   "id": "f5e306f5",
   "metadata": {},
   "source": [
    "## 6. MySQL-JSON-LD Database Connection\n",
    "\n",
    "MySQL database with JSON-LD typing generated by the PNNL CIM-Loader library"
   ]
  },
  {
   "cell_type": "code",
   "execution_count": null,
   "id": "82e091e6",
   "metadata": {},
   "outputs": [],
   "source": [
    "# Import class from cimgraph databases module\n",
    "from cimgraph.databases.mysql.mysql import MySQLJSONConnection\n",
    "# Create connection parameters\n",
    "params = ConnectionParameters(host= \"localhost\", database=\"rc4_2021\", username=\"root\", password=\"password\", \n",
    "                              cim_profile='rc4_2021', namespace=\"http://iec.ch/TC57/CIM100#\")\n",
    "\n",
    "# Create database connection object\n",
    "mysql = MySQLJSONConnection(params)"
   ]
  },
  {
   "cell_type": "markdown",
   "id": "bdf41f56",
   "metadata": {},
   "source": [
    "## GridAPPS-D Platform Connection"
   ]
  },
  {
   "cell_type": "code",
   "execution_count": null,
   "id": "6c82b35d",
   "metadata": {},
   "outputs": [],
   "source": [
    "# Import class from cimgraph databases module\n",
    "from cimgraph.databases.gridappsd import GridAPPSDConnection\n",
    "# Create connection parameters\n",
    "params = ConnectionParameters(host= \"localhost\", port=\"61613\", username=\"app_user\", password=\"1234App\", \n",
    "                              cim_profile='rc4_2021', namespace=\"http://iec.ch/TC57/CIM100#\")\n",
    "# Create platform connection object\n",
    "gapps = GridAPPSDConnection(params)"
   ]
  },
  {
   "cell_type": "markdown",
   "id": "d8d0ae28",
   "metadata": {},
   "source": [
    "## AVEVA PI Asset Framework (PI-Web-API) Connection"
   ]
  },
  {
   "cell_type": "code",
   "execution_count": null,
   "id": "21627df6",
   "metadata": {},
   "outputs": [],
   "source": [
    "#TODO"
   ]
  },
  {
   "cell_type": "code",
   "execution_count": null,
   "id": "314dc368",
   "metadata": {},
   "outputs": [],
   "source": []
  },
  {
   "cell_type": "markdown",
   "id": "03190432",
   "metadata": {},
   "source": [
    "## Local Connection (No Database)"
   ]
  },
  {
   "cell_type": "code",
   "execution_count": null,
   "id": "78cf0385",
   "metadata": {},
   "outputs": [],
   "source": [
    "#TODO"
   ]
  },
  {
   "cell_type": "code",
   "execution_count": null,
   "id": "e8f6a918",
   "metadata": {},
   "outputs": [],
   "source": []
  },
  {
   "cell_type": "markdown",
   "id": "a0403015",
   "metadata": {},
   "source": [
    "## RDFLib File Parser Connection (No Database)"
   ]
  },
  {
   "cell_type": "code",
   "execution_count": null,
   "id": "c44ca672",
   "metadata": {},
   "outputs": [],
   "source": [
    "from cimgraph.databases.rdflib.rdflib import RDFlibConnection\n",
    "# RDFLib File Reader Connection\n",
    "params = ConnectionParameters(filename=\"./maple10bus.xml\",\n",
    "                               cim_profile='rc4_2021', iec61970_301=7)\n",
    "rdf = RDFlibConnection(params)"
   ]
  },
  {
   "cell_type": "code",
   "execution_count": null,
   "id": "77ce4a0a",
   "metadata": {},
   "outputs": [],
   "source": []
  }
 ],
 "metadata": {
  "kernelspec": {
   "display_name": "Python 3 (ipykernel)",
   "language": "python",
   "name": "python3"
  },
  "language_info": {
   "codemirror_mode": {
    "name": "ipython",
    "version": 3
   },
   "file_extension": ".py",
   "mimetype": "text/x-python",
   "name": "python",
   "nbconvert_exporter": "python",
   "pygments_lexer": "ipython3",
   "version": "3.10.12"
  }
 },
 "nbformat": 4,
 "nbformat_minor": 5
}
