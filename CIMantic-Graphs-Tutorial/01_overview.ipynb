{
 "cells": [
  {
   "cell_type": "markdown",
   "id": "433aca84",
   "metadata": {},
   "source": [
    "# CIMantic Graphs Overview"
   ]
  },
  {
   "cell_type": "markdown",
   "id": "45c12f80",
   "metadata": {},
   "source": [
    "This tutorial provides an introduction to usage of the CIMantic Graphs library (aka CIM-Graph). \n",
    "\n",
    "CIMantic Graphs is an open-source library for creating in-memory labeled property graphs for creating, parsing, and editing CIM power system models. It creates Python object instances in memory using a data profile exported from a specified CIM profile (e.g. IEC61970cim17v40 or GridAPPS-D RC4_2021)."
   ]
  },
  {
   "cell_type": "markdown",
   "id": "b3d688b4",
   "metadata": {},
   "source": [
    "To install CIMantic Graphs clone the github repository or use pip install: `pip install cim-graph`"
   ]
  },
  {
   "cell_type": "markdown",
   "id": "1422353f",
   "metadata": {},
   "source": [
    "## Table of Contents:\n",
    "\n",
    "* [1. Importing CIMantif Graphs]()\n",
    "* [2. Specifying Connection Parameters](#2-specifying-connection-parameters)\n",
    "* [3. Connecting to the Data Source]()\n"
   ]
  },
  {
   "cell_type": "markdown",
   "id": "ecbcfb4d",
   "metadata": {},
   "source": [
    "----"
   ]
  },
  {
   "cell_type": "markdown",
   "id": "f41b2a37",
   "metadata": {},
   "source": [
    "## 1. Importing CIMantic Graphs\n",
    "\n",
    "CIMantic Graphs contains several packages within the core library:\n",
    "* `data_profiles`: This package contains full CIM profiles exported through CIMTool or Enterprise Architect Schema Composer.\n",
    "* `databases`: This package contains database i/o connections and backend query handling for multiple databases (e.g. Blazegraph, GraphDB, Neo4J, MySQL, etc.)\n",
    "* `models`: This package contains knowledge graph models for transmission node-breaker, transmission bus-branch, and distribution feeder models.\n",
    "* `queries`: This package contains generic queries that are built at runtime for any CIM profile and CIM class"
   ]
  },
  {
   "cell_type": "markdown",
   "id": "ac385a49",
   "metadata": {},
   "source": [
    "### 1.1. Importing the CIM Profile\n",
    "The first step in using CIMantic Graphs is to import the python data profile for desired CIM profile. The data profile provides the ability to invoke CIM classes directly based on their name.\n",
    "\n"
   ]
  },
  {
   "cell_type": "markdown",
   "id": "7ad9794b",
   "metadata": {},
   "source": [
    "__Method 1:__ Directly import the desired CIM profile:"
   ]
  },
  {
   "cell_type": "code",
   "execution_count": 1,
   "id": "634810bc",
   "metadata": {},
   "outputs": [],
   "source": [
    "import cimgraph.data_profile.rc4_2021 as cim"
   ]
  },
  {
   "cell_type": "markdown",
   "id": "251a816f",
   "metadata": {},
   "source": [
    "__Method 2 (recommended):__ Use `importlib`:"
   ]
  },
  {
   "cell_type": "code",
   "execution_count": 2,
   "id": "6d024a15",
   "metadata": {},
   "outputs": [],
   "source": [
    "import importlib\n",
    "cim_profile = 'rc4_2021'\n",
    "cim = importlib.import_module('cimgraph.data_profile.' + cim_profile)"
   ]
  },
  {
   "cell_type": "markdown",
   "id": "4812cf88",
   "metadata": {},
   "source": [
    "After importing the data profile, it is possible to create an instance of a class or view the attributes of any class. "
   ]
  },
  {
   "cell_type": "markdown",
   "id": "068cc4f3",
   "metadata": {},
   "source": [
    "__Example 1:__ Create a new breaker with a name and mRID. The `uuid` library can be used to generate the unique identifier used for all CIM objects."
   ]
  },
  {
   "cell_type": "code",
   "execution_count": 3,
   "id": "6dc87f48",
   "metadata": {},
   "outputs": [
    {
     "name": "stdout",
     "output_type": "stream",
     "text": [
      "Breaker(mRID='f6a5250e-d6ae-4ee0-a760-4bce56950ad2', aliasName=None, description=None, name='breaker_01', Names=[], AssetDatasheet=None, Assets=[], ConfigurationEvent=[], Controls=[], Location=None, Measurements=[], OperatingShare=[], PSRType=None, ReportingGroup=[], aggregate=None, inService=None, networkAnalysisEnabled=None, normallyInService=None, AdditionalEquipmentContainer=[], EquipmentContainer=None, Faults=[], OperationalLimitSet=[], UsagePoints=None, BaseVoltage=None, SvStatus=[], Terminals=[], normalOpen=None, open=True, ratedCurrent=None, retained=None, CompositeSwitch=None, SvSwitch=[], SwitchPhase=[], SwitchSchedules=[], breakingCapacity=None, inTransitTime=None)\n"
     ]
    }
   ],
   "source": [
    "import uuid\n",
    "breaker = cim.Breaker(name = \"breaker_01\", mRID = str(uuid.uuid4()))\n",
    "breaker.open = True\n",
    "print(breaker)"
   ]
  },
  {
   "cell_type": "markdown",
   "id": "53185d16",
   "metadata": {},
   "source": [
    "__Example 2:__ Associate two CIM objects based on their associations"
   ]
  },
  {
   "cell_type": "code",
   "execution_count": 4,
   "id": "8bc3feb9",
   "metadata": {},
   "outputs": [],
   "source": [
    "substation = cim.Substation(name = \"sub_1\", mRID = str(uuid.uuid4()))\n",
    "breaker.EquipmentContainer = substation"
   ]
  },
  {
   "cell_type": "markdown",
   "id": "b7009ff0",
   "metadata": {},
   "source": [
    "__Example 3:__ View documentation of the ACLineSegment class"
   ]
  },
  {
   "cell_type": "code",
   "execution_count": 5,
   "id": "03ecd92f",
   "metadata": {},
   "outputs": [
    {
     "name": "stdout",
     "output_type": "stream",
     "text": [
      "A wire or combination of wires, with consistent electrical\n",
      "    characteristics, building a single electrical system, used to carry\n",
      "    alternating current between points in the power system.\n",
      "\n",
      "    For symmetrical, transposed 3ph lines, it is sufficient to use\n",
      "    attributes of the line segment, which describe impedances and\n",
      "    admittances for the entire length of the segment.  Additionally\n",
      "    impedances can be computed by using length and associated per length\n",
      "    impedances. The BaseVoltage at the two ends of ACLineSegments in a\n",
      "    Line shall have the same BaseVoltage.nominalVoltage. However,\n",
      "    boundary lines  may have slightly different\n",
      "    BaseVoltage.nominalVoltages and  variation is allowed. Larger\n",
      "    voltage difference in general requires use of an equivalent branch.\n",
      "\n",
      "    :ivar b0ch: Zero sequence shunt (charging) susceptance, uniformly\n",
      "        distributed, of the entire line section.\n",
      "    :ivar bch: Positive sequence shunt (charging) susceptance, uniformly\n",
      "        distributed, of the entire line section.  This value represents\n",
      "        the full charging over the full length of the line.\n",
      "    :ivar g0ch: Zero sequence shunt (charging) conductance, uniformly\n",
      "        distributed, of the entire line section.\n",
      "    :ivar gch: Positive sequence shunt (charging) conductance, uniformly\n",
      "        distributed, of the entire line section.\n",
      "    :ivar r: Positive sequence series resistance of the entire line\n",
      "        section.\n",
      "    :ivar r0: Zero sequence series resistance of the entire line\n",
      "        section.\n",
      "    :ivar shortCircuitEndTemperature: Maximum permitted temperature at\n",
      "        the end of SC for the calculation of minimum short-circuit\n",
      "        currents. Used for short circuit data exchange according to IEC\n",
      "        60909\n",
      "    :ivar x: Positive sequence series reactance of the entire line\n",
      "        section.\n",
      "    :ivar x0: Zero sequence series reactance of the entire line section.\n",
      "    :ivar ACLineSegmentPhases: The line segment phases which belong to\n",
      "        the line segment.\n",
      "    :ivar Clamp: The clamps connected to the line segment.\n",
      "    :ivar Cut: Cuts applied to the line segment.\n",
      "    :ivar LineFaults: The line faults of the line segment.\n",
      "    :ivar ParallelLineSegment:\n",
      "    :ivar PerLengthImpedance: Per-length impedance of this line segment.\n",
      "    :ivar WireSpacingInfo:\n",
      "    \n"
     ]
    }
   ],
   "source": [
    "print(cim.ACLineSegment.__doc__)"
   ]
  },
  {
   "cell_type": "markdown",
   "id": "74118a81",
   "metadata": {},
   "source": [
    "-----"
   ]
  },
  {
   "cell_type": "markdown",
   "id": "4c261b90",
   "metadata": {},
   "source": [
    "## 2. Specifying Connection Parameters\n",
    "\n",
    "The next step in using any of the CIMantic Graphs library classes to establish the connection parameters for reading or writing the CIM model. The `ConnectionParameters` class can be imported through:"
   ]
  },
  {
   "cell_type": "code",
   "execution_count": 6,
   "id": "4e8212dd",
   "metadata": {},
   "outputs": [],
   "source": [
    "from cimgraph import ConnectionParameters"
   ]
  },
  {
   "cell_type": "markdown",
   "id": "e96ac5ff",
   "metadata": {},
   "source": [
    "The parameters can be defined using an instance specifying the required paramters for the specific connection interface (database) to be used."
   ]
  },
  {
   "cell_type": "code",
   "execution_count": 7,
   "id": "521653f3",
   "metadata": {},
   "outputs": [],
   "source": [
    "params = ConnectionParameters(url = \"http://localhost:8889/bigdata/namespace/kb/sparql\",\n",
    "                              cim_profile='rc4_2021', iec61970_301=7) # Blazegraph params"
   ]
  },
  {
   "cell_type": "markdown",
   "id": "2c97c535",
   "metadata": {},
   "source": [
    "The required and optional arguments for the `ConnectionParameters` class are described in detail in [ConnectionParameters Arguments](link)"
   ]
  },
  {
   "cell_type": "markdown",
   "id": "b3434478",
   "metadata": {},
   "source": [
    "----"
   ]
  },
  {
   "cell_type": "markdown",
   "id": "ba900365",
   "metadata": {},
   "source": [
    "## 3. Connecting to the Data Source\n",
    "\n",
    "The next step is to connect to the database or file source that will be used for CIM model. A complete list of connection types currently supported are described in [Supported Databases](link)"
   ]
  },
  {
   "cell_type": "code",
   "execution_count": 8,
   "id": "75889672",
   "metadata": {},
   "outputs": [],
   "source": [
    "from cimgraph.databases.blazegraph import BlazegraphConnection\n",
    "blazegraph = BlazegraphConnection(params)"
   ]
  },
  {
   "cell_type": "markdown",
   "id": "09651351",
   "metadata": {},
   "source": [
    "----"
   ]
  },
  {
   "cell_type": "markdown",
   "id": "c8922ee6",
   "metadata": {},
   "source": [
    "## 4. Creating a Container and Graph Model\n",
    "\n",
    "CIMantic Graphs uses an EquipmentContainer class as the starting point for building a knowledge graph of the power system model. The supported classes are `BusBranchModel`, `NodeBreakerModel`, and `FeederModel`."
   ]
  },
  {
   "cell_type": "code",
   "execution_count": 10,
   "id": "d1569a81",
   "metadata": {},
   "outputs": [],
   "source": [
    "from cimgraph.models import FeederModel"
   ]
  },
  {
   "cell_type": "markdown",
   "id": "bc7bef47",
   "metadata": {},
   "source": [
    "The power system network is then created by passing the database connection, container object, and a boolean flag whether a centralized or distributed model should be built."
   ]
  },
  {
   "cell_type": "code",
   "execution_count": 12,
   "id": "18d3fed9",
   "metadata": {},
   "outputs": [],
   "source": [
    "feeder_mrid = \"_49AD8E07-3BF9-A4E2-CB8F-C3722F837B62\"  # 13 bus\n",
    "feeder = cim.Feeder(mRID=feeder_mrid)\n",
    "network = FeederModel(connection=blazegraph, container=feeder, distributed=False)"
   ]
  },
  {
   "cell_type": "markdown",
   "id": "08538ffa",
   "metadata": {},
   "source": [
    "The network is populated by default with all ConductingEquipment, ConnectivityNode, and Terminal class instances. The knowledge graph is indexed by the class type and then the device mRID.\n",
    "\n",
    "\n",
    "To view instances of a particular class, use the `.pprint(cim.ClassName)` method. Use of the default python print method is not recommended due to foward-reverse relationships resulting in an infinite print loop."
   ]
  },
  {
   "cell_type": "code",
   "execution_count": 13,
   "id": "e877d3aa",
   "metadata": {},
   "outputs": [
    {
     "name": "stdout",
     "output_type": "stream",
     "text": [
      "{\n",
      "    \"_52DE9189-20DC-4C73-BDEE-E960FE1F9493\": {\n",
      "        \"mRID\": \"_52DE9189-20DC-4C73-BDEE-E960FE1F9493\",\n",
      "        \"Terminals\": [\n",
      "            \"_1D81C7FE-E88F-41E3-A900-476CA6476CCD\",\n",
      "            \"_2847E06B-C8ED-41E6-B515-C61C9E8EB4B4\"\n",
      "        ]\n",
      "    }\n",
      "}\n"
     ]
    }
   ],
   "source": [
    "network.pprint(cim.Breaker)"
   ]
  },
  {
   "cell_type": "code",
   "execution_count": null,
   "id": "f65009a0",
   "metadata": {},
   "outputs": [],
   "source": []
  },
  {
   "cell_type": "markdown",
   "id": "6896ebae",
   "metadata": {},
   "source": [
    "----"
   ]
  },
  {
   "cell_type": "markdown",
   "id": "0e4e31c6",
   "metadata": {},
   "source": [
    "## 5. Automated Database Queries\n",
    "CIMantic Graphs contains automatic query generation routines for all classes and all supported databases using the `.get_all_edges(cim.ClassName)` method. This query obtains all attributes for all objects of that class type and expands the knowledge graph by one edge with default instances of all associated objects."
   ]
  },
  {
   "cell_type": "code",
   "execution_count": 25,
   "id": "30b2f65b",
   "metadata": {},
   "outputs": [],
   "source": [
    "network.get_all_edges(cim.Breaker)\n",
    "network.get_all_edges(cim.Terminal)\n",
    "network.get_all_edges(cim.ConnectivityNode)"
   ]
  },
  {
   "cell_type": "code",
   "execution_count": 19,
   "id": "ad8c47a2",
   "metadata": {},
   "outputs": [
    {
     "name": "stdout",
     "output_type": "stream",
     "text": [
      "{\n",
      "    \"_52DE9189-20DC-4C73-BDEE-E960FE1F9493\": {\n",
      "        \"mRID\": \"_52DE9189-20DC-4C73-BDEE-E960FE1F9493\",\n",
      "        \"name\": \"brkr1\",\n",
      "        \"Location\": \"_085BBE1F-FF95-4260-A9D2-8D2F1A8EA9A3\",\n",
      "        \"Measurements\": [\n",
      "            \"_40ac2899-1d2a-469f-a14a-1e14ea29d172\",\n",
      "            \"_7c6f94c1-1419-4582-ab2d-a0b11772c26b\",\n",
      "            \"_8e7f04ee-a032-4128-838e-a3442a1c3026\",\n",
      "            \"_ab18a8e1-f023-4f9e-bf02-c75bf05164df\",\n",
      "            \"_b393e719-0981-4498-9d96-07f1be7de009\",\n",
      "            \"_f11a9ad9-5b68-483b-b52f-dd4af07bb77d\",\n",
      "            \"_0c48c74a-ceee-4c99-bd73-28079561ca7a\",\n",
      "            \"_3c60208a-8ef8-483c-828b-30ee42d402dc\",\n",
      "            \"_43f80e34-281e-4baa-8aba-d931a9a3ab87\",\n",
      "            \"_9f5cb9c4-71d6-4f2b-9dc1-26c7e9f84410\",\n",
      "            \"_aec42b89-f3c0-47e9-b21a-82736b2a1149\",\n",
      "            \"_baccfd49-ec98-4380-8be9-d242dc8611f3\"\n",
      "        ],\n",
      "        \"EquipmentContainer\": \"_49AD8E07-3BF9-A4E2-CB8F-C3722F837B62\",\n",
      "        \"BaseVoltage\": \"_2A158E0C-CD01-4A50-AEBA-59D761FCF15D\",\n",
      "        \"Terminals\": [\n",
      "            \"_1D81C7FE-E88F-41E3-A900-476CA6476CCD\",\n",
      "            \"_2847E06B-C8ED-41E6-B515-C61C9E8EB4B4\"\n",
      "        ],\n",
      "        \"normalOpen\": \"false\",\n",
      "        \"open\": \"false\",\n",
      "        \"ratedCurrent\": \"400\",\n",
      "        \"retained\": \"true\",\n",
      "        \"breakingCapacity\": \"400\"\n",
      "    }\n",
      "}\n"
     ]
    }
   ],
   "source": [
    "network.pprint(cim.Breaker)"
   ]
  },
  {
   "cell_type": "markdown",
   "id": "3890d485",
   "metadata": {},
   "source": [
    "---"
   ]
  },
  {
   "cell_type": "markdown",
   "id": "072a4426",
   "metadata": {},
   "source": [
    "## 6. Traversing the Knowledge Graph\n",
    "CIMantic Graphs associates CIM classes by creating direct references between in-memory object instances based on the naming and hierarchy of the underlying information model. "
   ]
  },
  {
   "cell_type": "markdown",
   "id": "e0d1d493",
   "metadata": {},
   "source": [
    "To view the attributes of particular object instance, directly invoke the attribute from the UML class diagram."
   ]
  },
  {
   "cell_type": "code",
   "execution_count": 31,
   "id": "e4be1428",
   "metadata": {},
   "outputs": [
    {
     "name": "stdout",
     "output_type": "stream",
     "text": [
      "false\n"
     ]
    }
   ],
   "source": [
    "breaker = network.graph[cim.Breaker][\"_52DE9189-20DC-4C73-BDEE-E960FE1F9493\"]\n",
    "print(breaker.normalOpen)"
   ]
  },
  {
   "cell_type": "markdown",
   "id": "ffbcedae",
   "metadata": {},
   "source": [
    "To traverse the knowledge graph, no custom queries are required. Instead, directly invoke the UML association names that serves as references between objects in the graph:"
   ]
  },
  {
   "cell_type": "code",
   "execution_count": 30,
   "id": "6fda0dd7",
   "metadata": {},
   "outputs": [
    {
     "name": "stdout",
     "output_type": "stream",
     "text": [
      "650\n"
     ]
    }
   ],
   "source": [
    "print(breaker.Terminals[0].ConnectivityNode.name)"
   ]
  },
  {
   "cell_type": "markdown",
   "id": "feb78d9e",
   "metadata": {},
   "source": [
    "No separate queries or mapping are required for measurment objects. Call the `.get_all_edges` method for each measurement class, and then obtain the measurements from the equipment object"
   ]
  },
  {
   "cell_type": "code",
   "execution_count": 33,
   "id": "f3831b80",
   "metadata": {},
   "outputs": [],
   "source": [
    "network.get_all_edges(cim.Analog)\n",
    "network.get_all_edges(cim.Discrete)"
   ]
  },
  {
   "cell_type": "code",
   "execution_count": 36,
   "id": "f8832bb4",
   "metadata": {},
   "outputs": [
    {
     "name": "stdout",
     "output_type": "stream",
     "text": [
      "Breaker_brkr1_Voltage PhaseCode.A 650\n",
      "Breaker_brkr1_Voltage PhaseCode.B brkr\n",
      "Breaker_brkr1_Voltage PhaseCode.B 650\n",
      "Breaker_brkr1_Voltage PhaseCode.C 650\n",
      "Breaker_brkr1_Voltage PhaseCode.C brkr\n",
      "Breaker_brkr1_Voltage PhaseCode.A brkr\n",
      "Breaker_brkr1_Current PhaseCode.A 650\n",
      "Breaker_brkr1_Current PhaseCode.B 650\n",
      "Breaker_brkr1_Current PhaseCode.C 650\n",
      "Breaker_brkr1_State PhaseCode.A 650\n",
      "Breaker_brkr1_State PhaseCode.C 650\n",
      "Breaker_brkr1_State PhaseCode.B 650\n"
     ]
    }
   ],
   "source": [
    "for meas in breaker.Measurements:\n",
    "    print(meas.name, meas.phases, meas.Terminal.ConnectivityNode.name)"
   ]
  },
  {
   "cell_type": "code",
   "execution_count": null,
   "id": "56ebb22c",
   "metadata": {},
   "outputs": [],
   "source": []
  }
 ],
 "metadata": {
  "kernelspec": {
   "display_name": "Python 3 (ipykernel)",
   "language": "python",
   "name": "python3"
  },
  "language_info": {
   "codemirror_mode": {
    "name": "ipython",
    "version": 3
   },
   "file_extension": ".py",
   "mimetype": "text/x-python",
   "name": "python",
   "nbconvert_exporter": "python",
   "pygments_lexer": "ipython3",
   "version": "3.10.12"
  }
 },
 "nbformat": 4,
 "nbformat_minor": 5
}
